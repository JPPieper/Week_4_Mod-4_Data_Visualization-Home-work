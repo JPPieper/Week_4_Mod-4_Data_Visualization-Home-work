{
 "cells": [
  {
   "cell_type": "markdown",
   "id": "6dd98c34-8d2d-46de-ba73-ced86cd0761e",
   "metadata": {},
   "source": [
    "# District Summary\n",
    "Perform the necessary calculations and then create a high-level snapshot of the district's key metrics in a DataFrame.\n",
    "\n",
    "Include the following:\n",
    "\n",
    "Total number of unique schools\n",
    "\n",
    "Total students\n",
    "\n",
    "Total budget\n",
    "\n",
    "Average math score\n",
    "\n",
    "Average reading score\n",
    "\n",
    "% passing math (the percentage of students who passed math)\n",
    "\n",
    "% passing reading (the percentage of students who passed reading)\n",
    "__________\n",
    "Average math and reading scores stay consistent across grade level when grouped by school. There is no major improvement in scores from any school.\r\n",
    "Math passing rates are always consistently lower across every metric, but the difference between math and reading passing rates is greater amoung lower performing schools, large schools, and higher spending per student which all seem to correlate.\r\n",
    "The top 5 schools are all charter schools while the bottom 5 all district schools.\r\n",
    "In general (one exception), per student spending is higher in bottom performing schools than top performing.\r\n",
    "Schools under 2000 students have much higher passing rates than those with student populations above 2000. A comparision of 95 to 75%. The same phenomenon is seen with high and low per student spending brackets and district versus charter school___________s.\n",
    "\n",
    "\n",
    "As a whole, schools with higher budgets, did not yield better test results. By contrast, schools with higher spending per student actually ($645-675) underperformed compared to schools with smaller budgets (<$585 per student).\r\n",
    "\r\n",
    "As a whole, smaller and medium sized schools dramatically out-performed large sized schools on passing math performances (89-91% passing vs 67%).\r\n",
    "\r\n",
    "As a whole, charter schools out-performed the public district schools across all metrics. However, more analysis will be required to glean if the effect is due to school practices or the fact that charter schools tend to serve smaller student populations per school."
   ]
  },
  {
   "cell_type": "code",
   "execution_count": 31,
   "id": "23536abc-9b8e-4854-8074-81c7ae27e169",
   "metadata": {},
   "outputs": [
    {
     "data": {
      "text/html": [
       "<div>\n",
       "<style scoped>\n",
       "    .dataframe tbody tr th:only-of-type {\n",
       "        vertical-align: middle;\n",
       "    }\n",
       "\n",
       "    .dataframe tbody tr th {\n",
       "        vertical-align: top;\n",
       "    }\n",
       "\n",
       "    .dataframe thead th {\n",
       "        text-align: right;\n",
       "    }\n",
       "</style>\n",
       "<table border=\"1\" class=\"dataframe\">\n",
       "  <thead>\n",
       "    <tr style=\"text-align: right;\">\n",
       "      <th></th>\n",
       "      <th>Student ID</th>\n",
       "      <th>student_name</th>\n",
       "      <th>gender</th>\n",
       "      <th>grade</th>\n",
       "      <th>school_name</th>\n",
       "      <th>reading_score</th>\n",
       "      <th>math_score</th>\n",
       "      <th>School ID</th>\n",
       "      <th>type</th>\n",
       "      <th>size</th>\n",
       "      <th>budget</th>\n",
       "    </tr>\n",
       "  </thead>\n",
       "  <tbody>\n",
       "    <tr>\n",
       "      <th>0</th>\n",
       "      <td>0</td>\n",
       "      <td>Paul Bradley</td>\n",
       "      <td>M</td>\n",
       "      <td>9th</td>\n",
       "      <td>Huang High School</td>\n",
       "      <td>66</td>\n",
       "      <td>79</td>\n",
       "      <td>0</td>\n",
       "      <td>District</td>\n",
       "      <td>2917</td>\n",
       "      <td>1910635</td>\n",
       "    </tr>\n",
       "    <tr>\n",
       "      <th>1</th>\n",
       "      <td>1</td>\n",
       "      <td>Victor Smith</td>\n",
       "      <td>M</td>\n",
       "      <td>12th</td>\n",
       "      <td>Huang High School</td>\n",
       "      <td>94</td>\n",
       "      <td>61</td>\n",
       "      <td>0</td>\n",
       "      <td>District</td>\n",
       "      <td>2917</td>\n",
       "      <td>1910635</td>\n",
       "    </tr>\n",
       "    <tr>\n",
       "      <th>2</th>\n",
       "      <td>2</td>\n",
       "      <td>Kevin Rodriguez</td>\n",
       "      <td>M</td>\n",
       "      <td>12th</td>\n",
       "      <td>Huang High School</td>\n",
       "      <td>90</td>\n",
       "      <td>60</td>\n",
       "      <td>0</td>\n",
       "      <td>District</td>\n",
       "      <td>2917</td>\n",
       "      <td>1910635</td>\n",
       "    </tr>\n",
       "    <tr>\n",
       "      <th>3</th>\n",
       "      <td>3</td>\n",
       "      <td>Dr. Richard Scott</td>\n",
       "      <td>M</td>\n",
       "      <td>12th</td>\n",
       "      <td>Huang High School</td>\n",
       "      <td>67</td>\n",
       "      <td>58</td>\n",
       "      <td>0</td>\n",
       "      <td>District</td>\n",
       "      <td>2917</td>\n",
       "      <td>1910635</td>\n",
       "    </tr>\n",
       "    <tr>\n",
       "      <th>4</th>\n",
       "      <td>4</td>\n",
       "      <td>Bonnie Ray</td>\n",
       "      <td>F</td>\n",
       "      <td>9th</td>\n",
       "      <td>Huang High School</td>\n",
       "      <td>97</td>\n",
       "      <td>84</td>\n",
       "      <td>0</td>\n",
       "      <td>District</td>\n",
       "      <td>2917</td>\n",
       "      <td>1910635</td>\n",
       "    </tr>\n",
       "  </tbody>\n",
       "</table>\n",
       "</div>"
      ],
      "text/plain": [
       "   Student ID       student_name gender grade        school_name  \\\n",
       "0           0       Paul Bradley      M   9th  Huang High School   \n",
       "1           1       Victor Smith      M  12th  Huang High School   \n",
       "2           2    Kevin Rodriguez      M  12th  Huang High School   \n",
       "3           3  Dr. Richard Scott      M  12th  Huang High School   \n",
       "4           4         Bonnie Ray      F   9th  Huang High School   \n",
       "\n",
       "   reading_score  math_score  School ID      type  size   budget  \n",
       "0             66          79          0  District  2917  1910635  \n",
       "1             94          61          0  District  2917  1910635  \n",
       "2             90          60          0  District  2917  1910635  \n",
       "3             67          58          0  District  2917  1910635  \n",
       "4             97          84          0  District  2917  1910635  "
      ]
     },
     "execution_count": 31,
     "metadata": {},
     "output_type": "execute_result"
    }
   ],
   "source": [
    "# Dependencies and Setup\n",
    "import pandas as pd\n",
    "from pathlib import Path\n",
    "\n",
    "# File to Load (Remember to Change These)\n",
    "school_data_df = Path(\"Resources/schools_complete.csv\")\n",
    "student_data_df = Path(\"Resources/students_complete.csv\")\n",
    "\n",
    "\n",
    "\n",
    "# Read School and Student Data File and store into Pandas DataFrames\n",
    "school_data_df = pd.read_csv(school_data_df)\n",
    "school_data_df.head()\n",
    "student_data_df = pd.read_csv(student_data_df)\n",
    "student_data_df.head()\n",
    "# Combine the data into a single dataset.\n",
    "school_data_complete = pd.merge(student_data_df, school_data_df, how=\"left\", on=[\"school_name\", \"school_name\"])\n",
    "school_data_complete.head()"
   ]
  },
  {
   "cell_type": "code",
   "execution_count": 32,
   "id": "caa66eba-1445-47d9-adba-43ac33d2a847",
   "metadata": {},
   "outputs": [
    {
     "name": "stdout",
     "output_type": "stream",
     "text": [
      "Total number of schools in District: 15\n"
     ]
    }
   ],
   "source": [
    "#total number of unique schools \n",
    "# Calculate the total number of unique schools\n",
    "dist_school_count = school_data_df [\"school_name\"].count()\n",
    "dist_school_count\n",
    "print(\"Total number of schools in District:\", dist_school_count)"
   ]
  },
  {
   "cell_type": "code",
   "execution_count": 33,
   "id": "f3efe8bb-8c36-4f47-aa34-91eb592e2868",
   "metadata": {},
   "outputs": [
    {
     "name": "stdout",
     "output_type": "stream",
     "text": [
      "Total number of students in District: 39170\n"
     ]
    }
   ],
   "source": [
    "# Calculate the total number of students\n",
    "dist_student_count = student_data_df[\"student_name\"].count()\n",
    "print(\"Total number of students in District:\", dist_student_count)"
   ]
  },
  {
   "cell_type": "code",
   "execution_count": 34,
   "id": "9ad455e5-837b-4732-a180-5427ce17da96",
   "metadata": {},
   "outputs": [
    {
     "name": "stdout",
     "output_type": "stream",
     "text": [
      "Total school District Budget: 24649428\n"
     ]
    }
   ],
   "source": [
    "# Calculate the total budget\n",
    "dist_total_budget = school_data_df[\"budget\"].sum()\n",
    "print(\"Total school District Budget:\", dist_total_budget)\n"
   ]
  },
  {
   "cell_type": "code",
   "execution_count": 35,
   "id": "f2817f79-94be-4449-b4a4-441dca08aa27",
   "metadata": {},
   "outputs": [
    {
     "name": "stdout",
     "output_type": "stream",
     "text": [
      "the average math score for the school: 78.98537145774827\n"
     ]
    }
   ],
   "source": [
    "# Calculate the average (mean) math score\n",
    "average_math_score =  school_data_complete['math_score'].mean()\n",
    "average_math_score\n",
    "\n",
    "print(\"the average math score for the school:\", average_math_score)"
   ]
  },
  {
   "cell_type": "code",
   "execution_count": 36,
   "id": "92ef60da-6db0-4369-b9f7-8ae16f2c4e96",
   "metadata": {},
   "outputs": [
    {
     "name": "stdout",
     "output_type": "stream",
     "text": [
      "Total number of students in District: 39170\n"
     ]
    }
   ],
   "source": [
    "# Calculate the total number of students\n",
    "dist_student_count = student_data_df [\"student_name\"].count()\n",
    "dist_student_count\n",
    "print(\"Total number of students in District:\", dist_student_count)"
   ]
  },
  {
   "cell_type": "code",
   "execution_count": 37,
   "id": "582f2ad7-a37b-4036-bff0-c7ddebd4bf16",
   "metadata": {},
   "outputs": [
    {
     "name": "stdout",
     "output_type": "stream",
     "text": [
      "the average math score for the District:  78.98537145774827\n"
     ]
    }
   ],
   "source": [
    "# Calculate the average (mean) math score\n",
    "average_math_score =  school_data_complete['math_score'].mean()\n",
    "average_math_score\n",
    "\n",
    "print(\"the average math score for the District: \",average_math_score)"
   ]
  },
  {
   "cell_type": "code",
   "execution_count": 38,
   "id": "285884a7-3169-40f9-b9a8-b33582141021",
   "metadata": {},
   "outputs": [
    {
     "name": "stdout",
     "output_type": "stream",
     "text": [
      "the average reading score for the District: 81.87784018381414\n"
     ]
    }
   ],
   "source": [
    "# Calculate the average (mean) reading score\n",
    "average_reading_score =  school_data_complete['reading_score'].mean()\n",
    "average_reading_score\n",
    "\n",
    "print(\"the average reading score for the District:\", average_reading_score)"
   ]
  },
  {
   "cell_type": "code",
   "execution_count": 39,
   "id": "85c9dd7c-2a09-44bc-86b2-7fc8ddae327c",
   "metadata": {},
   "outputs": [
    {
     "data": {
      "text/plain": [
       "74.9808526933878"
      ]
     },
     "execution_count": 39,
     "metadata": {},
     "output_type": "execute_result"
    }
   ],
   "source": [
    "#  % passing math (the percentage of students who passed math)\n",
    "# # Use the following to calculate the percentage of students who passed math (math scores greather than or equal to 70)\n",
    "passing_math_count = school_data_complete[(school_data_complete[\"math_score\"] >= 70)].count()[\"student_name\"]\n",
    "passing_math_percentage = passing_math_count / float(dist_student_count) * 100\n",
    "passing_math_percentage\n",
    "\n"
   ]
  },
  {
   "cell_type": "code",
   "execution_count": 40,
   "id": "ac9fd617-603a-47ad-b00a-8fdfec2e6eeb",
   "metadata": {},
   "outputs": [
    {
     "data": {
      "text/plain": [
       "85.80546336482001"
      ]
     },
     "execution_count": 40,
     "metadata": {},
     "output_type": "execute_result"
    }
   ],
   "source": [
    "#  % passing reading (the percentage of students who passed reading)\n",
    "\n",
    "passing_reading_count = school_data_complete[(school_data_complete[\"reading_score\"] >= 70)].count()[\"student_name\"]\n",
    "passing_reading_percentage = passing_reading_count / float(dist_student_count) * 100\n",
    "passing_reading_percentage"
   ]
  },
  {
   "cell_type": "code",
   "execution_count": 41,
   "id": "331785ae-911c-4073-af87-92d44ae29888",
   "metadata": {},
   "outputs": [
    {
     "data": {
      "text/plain": [
       "65.17232575950983"
      ]
     },
     "execution_count": 41,
     "metadata": {},
     "output_type": "execute_result"
    }
   ],
   "source": [
    "#  % overall passing (the percentage of students who passed math AND reading)\n",
    "\n",
    "passing_math_reading_count = school_data_complete[\n",
    "    (school_data_complete[\"math_score\"] >= 70) & (school_data_complete[\"reading_score\"] >= 70)\n",
    "    ].count()[\"student_name\"]\n",
    "overall_passing_rate = passing_math_reading_count /  float(dist_student_count) * 100\n",
    "overall_passing_rate\n"
   ]
  },
  {
   "cell_type": "code",
   "execution_count": 44,
   "id": "294fd56c-590d-4f1f-abaa-cc956d0d899c",
   "metadata": {},
   "outputs": [
    {
     "data": {
      "text/html": [
       "<div>\n",
       "<style scoped>\n",
       "    .dataframe tbody tr th:only-of-type {\n",
       "        vertical-align: middle;\n",
       "    }\n",
       "\n",
       "    .dataframe tbody tr th {\n",
       "        vertical-align: top;\n",
       "    }\n",
       "\n",
       "    .dataframe thead th {\n",
       "        text-align: right;\n",
       "    }\n",
       "</style>\n",
       "<table border=\"1\" class=\"dataframe\">\n",
       "  <thead>\n",
       "    <tr style=\"text-align: right;\">\n",
       "      <th></th>\n",
       "      <th>Total Schools</th>\n",
       "      <th>Total Students</th>\n",
       "      <th>Total Budget</th>\n",
       "      <th>Average Reading Score</th>\n",
       "      <th>Average Math Score</th>\n",
       "      <th>% Passing Reading</th>\n",
       "      <th>% Passing Math</th>\n",
       "      <th>Overall Passing Rate</th>\n",
       "    </tr>\n",
       "  </thead>\n",
       "  <tbody>\n",
       "    <tr>\n",
       "      <th>0</th>\n",
       "      <td>15</td>\n",
       "      <td>39,170</td>\n",
       "      <td>$24,649,428.00</td>\n",
       "      <td>81.87784</td>\n",
       "      <td>78.985371</td>\n",
       "      <td>85.805463</td>\n",
       "      <td>74.980853</td>\n",
       "      <td>65.172326</td>\n",
       "    </tr>\n",
       "  </tbody>\n",
       "</table>\n",
       "</div>"
      ],
      "text/plain": [
       "   Total Schools Total Students    Total Budget  Average Reading Score  \\\n",
       "0             15         39,170  $24,649,428.00               81.87784   \n",
       "\n",
       "   Average Math Score  % Passing Reading  % Passing Math  Overall Passing Rate  \n",
       "0           78.985371          85.805463       74.980853             65.172326  "
      ]
     },
     "execution_count": 44,
     "metadata": {},
     "output_type": "execute_result"
    }
   ],
   "source": [
    "#\n",
    "# Create a high-level snapshot of the district's key metrics in a DataFrame\n",
    "\n",
    "district_summary = pd.DataFrame({\n",
    "    \n",
    "    \"Total Schools\": [dist_school_count],\n",
    "    \"Total Students\": [dist_student_count],\n",
    "    \"Total Budget\": [dist_total_budget],\n",
    "    \"Average Reading Score\": [average_reading_score],\n",
    "    \"Average Math Score\": [average_math_score],\n",
    "    \"% Passing Reading\":[passing_reading_percentage],\n",
    "    \"% Passing Math\": [passing_math_percentage],\n",
    "    \"Overall Passing Rate\": [overall_passing_rate]\n",
    "\n",
    "})\n",
    "\n",
    "#store as different df to change order\n",
    "dist_sum = district_summary[[\"Total Schools\", \n",
    "                             \"Total Students\", \n",
    "                             \"Total Budget\", \n",
    "                             \"Average Reading Score\", \n",
    "                             \"Average Math Score\", \n",
    "                             '% Passing Reading', \n",
    "                             '% Passing Math', \n",
    "                             'Overall Passing Rate']]\n",
    "\n",
    "#format cells\n",
    "dist_sum.style.format({\"Total Budget\": \"${:,.2f}\", \n",
    "                       \"Average Reading Score\": \"{:.1f}\", \n",
    "                       \"Average Math Score\": \"{:.1f}\", \n",
    "                       \"% Passing Math\": \"{:.1%}\", \n",
    "                       \"% Passing Reading\": \"{:.1%}\", \n",
    "                       \"Overall Passing Rate\": \"{:.1%}\"})\n",
    "\n",
    "# Formatting\n",
    "district_summary[\"Total Students\"] = district_summary[\"Total Students\"].map(\"{:,}\".format)\n",
    "district_summary[\"Total Budget\"] = district_summary[\"Total Budget\"].map(\"${:,.2f}\".format)\n",
    "\n",
    "# Display the DataFrame\n",
    "district_summary"
   ]
  },
  {
   "cell_type": "markdown",
   "id": "e875a2f3-6dad-456d-b0cc-26213c27090e",
   "metadata": {},
   "source": [
    "# School Summary\n",
    "Perform the necessary calculations and then create a DataFrame that summarizes key metrics about each school.\n",
    "\n",
    "Include the following:\n",
    "\n",
    "School name\n",
    "\n",
    "School type\n",
    "\n",
    "Total students\n",
    "\n",
    "Total school budget\n",
    "\n",
    "Per student budget\n",
    "\n",
    "Average math score\n",
    "\n",
    "Average reading score\n",
    "\n",
    "% passing math (the percentage of students who passed math)\n",
    "\n",
    "% passing reading (the percentage of students who passed reading)\n",
    "\n",
    "% overall passing (the percentage of students who passed math AND reading)"
   ]
  },
  {
   "cell_type": "code",
   "execution_count": 52,
   "id": "f277c5cb-baf2-48b5-9fca-24fa7a94cda1",
   "metadata": {},
   "outputs": [
    {
     "name": "stdout",
     "output_type": "stream",
     "text": [
      "Index(['School ID', 'school_name', 'type', 'size', 'budget'], dtype='object')\n",
      "Index(['Student ID', 'student_name', 'gender', 'grade', 'school_name',\n",
      "       'reading_score', 'math_score'],\n",
      "      dtype='object')\n"
     ]
    }
   ],
   "source": [
    "print(school_data_df.columns)\n",
    "print(student_data_df.columns)"
   ]
  },
  {
   "cell_type": "code",
   "execution_count": 58,
   "id": "73f6cc54-e4f2-4d3c-ba14-1876efe24e41",
   "metadata": {},
   "outputs": [
    {
     "ename": "AttributeError",
     "evalue": "'WindowsPath' object has no attribute 'set_index'",
     "output_type": "error",
     "traceback": [
      "\u001b[1;31m---------------------------------------------------------------------------\u001b[0m",
      "\u001b[1;31mAttributeError\u001b[0m                            Traceback (most recent call last)",
      "Cell \u001b[1;32mIn[58], line 5\u001b[0m\n\u001b[0;32m      2\u001b[0m student_data_df \u001b[38;5;241m=\u001b[39m Path(\u001b[38;5;124m\"\u001b[39m\u001b[38;5;124mResources/students_complete.csv\u001b[39m\u001b[38;5;124m\"\u001b[39m)\n\u001b[0;32m      4\u001b[0m \u001b[38;5;66;03m#groups by school\u001b[39;00m\n\u001b[1;32m----> 5\u001b[0m by_school \u001b[38;5;241m=\u001b[39m school_data_df\u001b[38;5;241m.\u001b[39mset_index(\u001b[38;5;124m'\u001b[39m\u001b[38;5;124mschool_name\u001b[39m\u001b[38;5;124m'\u001b[39m)\u001b[38;5;241m.\u001b[39mgroupby([\u001b[38;5;124m'\u001b[39m\u001b[38;5;124mschool_name\u001b[39m\u001b[38;5;124m'\u001b[39m])\n\u001b[0;32m      7\u001b[0m \u001b[38;5;66;03m#school types\u001b[39;00m\n\u001b[0;32m      8\u001b[0m sch_types \u001b[38;5;241m=\u001b[39m school_data_df\u001b[38;5;241m.\u001b[39mset_index(\u001b[38;5;124m'\u001b[39m\u001b[38;5;124mschool_name\u001b[39m\u001b[38;5;124m'\u001b[39m)[\u001b[38;5;124m'\u001b[39m\u001b[38;5;124mtype\u001b[39m\u001b[38;5;124m'\u001b[39m]\n",
      "\u001b[1;31mAttributeError\u001b[0m: 'WindowsPath' object has no attribute 'set_index'"
     ]
    }
   ],
   "source": [
    "school_data_df = Path(\"Resources/schools_complete.csv\")\n",
    "student_data_df = Path(\"Resources/students_complete.csv\")\n",
    "\n",
    "#groups by school\n",
    "by_school = school_data_df.set_index('school_name').groupby(['school_name'])\n",
    "\n",
    "#school types\n",
    "sch_types = school_data_df.set_index('school_name')['type']\n",
    "\n",
    "# school budget\n",
    "sch_budget = school_data_dff.set_index('school_name')['budget']\n",
    "\n",
    "#per student budget\n",
    "stu_budget = school_data_df.set_index('school_name')['budget']/schools_df.set_index('school')['size']\n",
    "\n",
    "#avg scores by school\n",
    "avg_math = by_school['math_score'].mean()\n",
    "avg_read = by_school['reading_score'].mean()\n",
    "\n",
    "# % passing scores\n",
    "pass_math = merged_df[merged_df['math_score'] >= 70].groupby('school')['Student ID'].count()/stu_per_sch \n",
    "pass_read = merged_df[merged_df['reading_score'] >= 70].groupby('school_name')['Student ID'].count()/stu_per_sch \n",
    "overall = merged_df[(merged_df['reading_score'] >= 70) & (merged_df['math_score'] >= 70)].groupby('school')['Student ID'].count()/stu_per_sch \n",
    "\n",
    "sch_summary = pd.DataFrame({\n",
    "    \"School Type\": sch_types,\n",
    "    \"Total Students\": stu_per_sch,\n",
    "    \"Per Student Budget\": stu_budget,\n",
    "    \"Total School Budget\": sch_budget,\n",
    "    \"Average Math Score\": avg_math,\n",
    "    \"Average Reading Score\": avg_read,\n",
    "    '% Passing Math': pass_math,\n",
    "    '% Passing Reading': pass_read,\n",
    "    \"Overall Passing Rate\": overall\n",
    "})\n",
    "\n",
    "#munging\n",
    "sch_summary = sch_summary[['School Type', 'Total Students', \n",
    "                          'Total School Budget', \n",
    "                          'Per Student Budget', \n",
    "                          'Average Math Score', \n",
    "                          'Average Reading Score',\n",
    "                          '% Passing Math',\n",
    "                          '% Passing Reading',\n",
    "                          'Overall Passing Rate']]\n",
    "\n"
   ]
  },
  {
   "cell_type": "code",
   "execution_count": 48,
   "id": "c41a8f6e-ae25-4d65-a2b8-0bac15038c95",
   "metadata": {},
   "outputs": [
    {
     "data": {
      "text/plain": [
       "school_name\n",
       "Huang High School     District\n",
       "Huang High School     District\n",
       "Huang High School     District\n",
       "Huang High School     District\n",
       "Huang High School     District\n",
       "                        ...   \n",
       "Thomas High School     Charter\n",
       "Thomas High School     Charter\n",
       "Thomas High School     Charter\n",
       "Thomas High School     Charter\n",
       "Thomas High School     Charter\n",
       "Name: type, Length: 39170, dtype: object"
      ]
     },
     "execution_count": 48,
     "metadata": {},
     "output_type": "execute_result"
    }
   ],
   "source": [
    "# Use the code provided to select the type per school from school_data\n",
    "school_type = school_data_complete.set_index([\"school_name\"])[\"type\"]\n",
    "school_type"
   ]
  },
  {
   "cell_type": "code",
   "execution_count": 50,
   "id": "dc48a827-a65b-44dd-853c-966fb75a129d",
   "metadata": {},
   "outputs": [
    {
     "data": {
      "text/plain": [
       "school_name\n",
       "Bailey High School       4976\n",
       "Cabrera High School      1858\n",
       "Figueroa High School     2949\n",
       "Ford High School         2739\n",
       "Griffin High School      1468\n",
       "Hernandez High School    4635\n",
       "Holden High School        427\n",
       "Huang High School        2917\n",
       "Johnson High School      4761\n",
       "Pena High School          962\n",
       "Rodriguez High School    3999\n",
       "Shelton High School      1761\n",
       "Thomas High School       1635\n",
       "Wilson High School       2283\n",
       "Wright High School       1800\n",
       "Name: Student ID, dtype: int64"
      ]
     },
     "execution_count": 50,
     "metadata": {},
     "output_type": "execute_result"
    }
   ],
   "source": [
    "# Calculate the total student count per school from school_data\n",
    "per_school_counts = school_data_complete.groupby([\"school_name\"]).count()[\"Student ID\"]\n",
    "per_school_counts"
   ]
  },
  {
   "cell_type": "code",
   "execution_count": 59,
   "id": "344b304f-05e7-4d99-9fba-f267069e31bb",
   "metadata": {},
   "outputs": [
    {
     "ename": "NameError",
     "evalue": "name 'total_dist_budget' is not defined",
     "output_type": "error",
     "traceback": [
      "\u001b[1;31m---------------------------------------------------------------------------\u001b[0m",
      "\u001b[1;31mNameError\u001b[0m                                 Traceback (most recent call last)",
      "Cell \u001b[1;32mIn[59], line 4\u001b[0m\n\u001b[0;32m      1\u001b[0m \u001b[38;5;66;03m# Calculate the total school budget and per capita spending per school from school_data\u001b[39;00m\n\u001b[0;32m      3\u001b[0m total_per_capita_spending_per_school \u001b[38;5;241m=\u001b[39m pd\u001b[38;5;241m.\u001b[39mDataFrame({\u001b[38;5;124m\"\u001b[39m\u001b[38;5;124mschool_name\u001b[39m\u001b[38;5;124m\"\u001b[39m :[dist_school_count],\n\u001b[1;32m----> 4\u001b[0m \u001b[38;5;124m\"\u001b[39m\u001b[38;5;124mTotal Students\u001b[39m\u001b[38;5;124m\"\u001b[39m:[dist_student_count],\u001b[38;5;124m\"\u001b[39m\u001b[38;5;124mTotal Budget\u001b[39m\u001b[38;5;124m\"\u001b[39m:[total_dist_budget]})\n\u001b[0;32m      6\u001b[0m total_per_capita_spending_per_school\n",
      "\u001b[1;31mNameError\u001b[0m: name 'total_dist_budget' is not defined"
     ]
    }
   ],
   "source": [
    "# Calculate the total school budget and per capita spending per school from school_data\n",
    "\n",
    "total_per_capita_spending_per_school = pd.DataFrame({\"school_name\" :[dist_school_count],\n",
    "\"Total Students\":[dist_student_count],\"Total Budget\":[total_dist_budget]})\n",
    "\n",
    "total_per_capita_spending_per_school\n",
    "\n",
    "\n",
    "\n"
   ]
  },
  {
   "cell_type": "code",
   "execution_count": 56,
   "id": "65c0a92e-0507-493d-86f9-2a9249a4fce9",
   "metadata": {},
   "outputs": [
    {
     "ename": "SyntaxError",
     "evalue": "invalid syntax (1446683062.py, line 2)",
     "output_type": "error",
     "traceback": [
      "\u001b[1;36m  Cell \u001b[1;32mIn[56], line 2\u001b[1;36m\u001b[0m\n\u001b[1;33m    per_school_math =\u001b[0m\n\u001b[1;37m                     ^\u001b[0m\n\u001b[1;31mSyntaxError\u001b[0m\u001b[1;31m:\u001b[0m invalid syntax\n"
     ]
    }
   ],
   "source": [
    "# Calculate the average test scores per school from school_data_complete\n",
    "per_school_math =\n",
    "per_school_reading =\n"
   ]
  },
  {
   "cell_type": "code",
   "execution_count": 15,
   "id": "691eaa1b-35fd-44eb-a627-ac6126afdd28",
   "metadata": {},
   "outputs": [
    {
     "ename": "NameError",
     "evalue": "name 'students_passing_math' is not defined",
     "output_type": "error",
     "traceback": [
      "\u001b[1;31m---------------------------------------------------------------------------\u001b[0m",
      "\u001b[1;31mNameError\u001b[0m                                 Traceback (most recent call last)",
      "Cell \u001b[1;32mIn[15], line 5\u001b[0m\n\u001b[0;32m      1\u001b[0m \u001b[38;5;66;03m# Calculate the number of students per school with math scores of 70 or higher from school_data_complete\u001b[39;00m\n\u001b[0;32m      2\u001b[0m \u001b[38;5;66;03m#students_passing_math =  student_data_complete[student_data_complete]\u001b[39;00m\n\u001b[0;32m      4\u001b[0m (school_data_complete[\u001b[38;5;124m\"\u001b[39m\u001b[38;5;124mreading_score\u001b[39m\u001b[38;5;124m\"\u001b[39m] \u001b[38;5;241m>\u001b[39m\u001b[38;5;241m=\u001b[39m \u001b[38;5;241m70\u001b[39m) \u001b[38;5;241m&\u001b[39m (school_data_complete[\u001b[38;5;124m\"\u001b[39m\u001b[38;5;124mmath_score\u001b[39m\u001b[38;5;124m\"\u001b[39m] \u001b[38;5;241m>\u001b[39m\u001b[38;5;241m=\u001b[39m \u001b[38;5;241m70\u001b[39m)\n\u001b[1;32m----> 5\u001b[0m school_students_passing_math \u001b[38;5;241m=\u001b[39mschool_students_passing_math_and_reading \u001b[38;5;241m=\u001b[39m students_passing_math\u001b[38;5;241m.\u001b[39mgroupby([\u001b[38;5;124m\"\u001b[39m\u001b[38;5;124mschool_name\u001b[39m\u001b[38;5;124m\"\u001b[39m])\u001b[38;5;241m.\u001b[39msize()\n",
      "\u001b[1;31mNameError\u001b[0m: name 'students_passing_math' is not defined"
     ]
    }
   ],
   "source": [
    "# Calculate the number of students per school with math scores of 70 or higher from school_data_complete\n",
    "#students_passing_math =  student_data_complete[student_data_complete]\n",
    "\n",
    "(school_data_complete[\"reading_score\"] >= 70) & (school_data_complete[\"math_score\"] >= 70)\n",
    "school_students_passing_math =school_students_passing_math_and_reading = students_passing_math.groupby([\"school_name\"]).size()\n",
    "\n",
    "\n",
    "\n",
    "\n",
    "\n"
   ]
  },
  {
   "cell_type": "code",
   "execution_count": null,
   "id": "9d476143-f8fa-4443-b64e-85d47397e842",
   "metadata": {},
   "outputs": [],
   "source": [
    "# Calculate the number of students per school with math scores of 70 or higher from school_data_complete\n",
    "students_passing_math =\n",
    "school_students_passing_math ="
   ]
  },
  {
   "cell_type": "code",
   "execution_count": null,
   "id": "60af13d4-6a5f-482c-b8aa-7ff24fbfd4bd",
   "metadata": {},
   "outputs": [],
   "source": [
    "# Use the provided code to calculate the number of students per school that passed both math and reading with scores of 70 or higher\n",
    "\n",
    "\n",
    "\n",
    "\n",
    "\n",
    "\n",
    "\n",
    "\n",
    "\n",
    "students_passing_math_and_reading = school_data_complete[\n",
    "    (school_data_complete[\"reading_score\"] >= 70) & (school_data_complete[\"math_score\"] >= 70)\n",
    "]\n",
    "school_students_passing_math_and_reading = students_passing_math_and_reading.groupby([\"school_name\"]).size()"
   ]
  },
  {
   "cell_type": "code",
   "execution_count": null,
   "id": "c1210b79-3582-4d19-b682-1e0bcdfdd02e",
   "metadata": {},
   "outputs": [],
   "source": [
    "# Use the provided code to calculate the passing rates\n",
    "per_school_passing_math = school_students_passing_math / per_school_counts * 100\n",
    "per_school_passing_reading = school_students_passing_reading / per_school_counts * 100\n",
    "overall_passing_rate = school_students_passing_math_and_reading / per_school_counts * 100"
   ]
  },
  {
   "cell_type": "code",
   "execution_count": null,
   "id": "bcec393c-0e70-41f7-9a9d-6a9554c4f0a6",
   "metadata": {},
   "outputs": [],
   "source": [
    "# Create a DataFrame called `per_school_summary` with columns for the calculations above.\n",
    "per_school_summary =\n",
    "\n",
    "# Formatting\n",
    "per_school_summary[\"Total School Budget\"] = per_school_summary[\"Total School Budget\"].map(\"${:,.2f}\".format)\n",
    "per_school_summary[\"Per Student Budget\"] = per_school_summary[\"Per Student Budget\"].map(\"${:,.2f}\".format)\n",
    "\n",
    "# Display the DataFrame\n",
    "per_school_summary"
   ]
  },
  {
   "cell_type": "code",
   "execution_count": null,
   "id": "c48d7b85-b452-48f7-ac2a-8041feb7b33d",
   "metadata": {},
   "outputs": [],
   "source": []
  },
  {
   "cell_type": "code",
   "execution_count": null,
   "id": "93781acb-5cdb-4bcb-a27b-c08f01bd3562",
   "metadata": {},
   "outputs": [],
   "source": []
  },
  {
   "cell_type": "code",
   "execution_count": null,
   "id": "206fc9c8-d03d-4d19-a755-145f33a40c9f",
   "metadata": {},
   "outputs": [],
   "source": []
  },
  {
   "cell_type": "code",
   "execution_count": null,
   "id": "82dfe032-1453-4672-ad5d-a9ba07d7d557",
   "metadata": {},
   "outputs": [],
   "source": []
  },
  {
   "cell_type": "code",
   "execution_count": null,
   "id": "5adcf5c8-b0f2-4087-8446-1f6e908d53b4",
   "metadata": {},
   "outputs": [],
   "source": []
  },
  {
   "cell_type": "code",
   "execution_count": null,
   "id": "69c268f8-936c-4d2b-bd69-b01aee4c2bce",
   "metadata": {},
   "outputs": [],
   "source": [
    "#  Highest-Performing Schools (by % Overall Passing)\n",
    "Sort the schools by % Overall Passing in descending order and display the top 5 rows.\n",
    "\n",
    "Save the results in a DataFrame called \"top_schools\"."
   ]
  },
  {
   "cell_type": "code",
   "execution_count": null,
   "id": "0fb54b36-da99-466f-be68-df11a02acd30",
   "metadata": {},
   "outputs": [],
   "source": [
    "#Lowest-Performing Schools (by % Overall Passing)\n",
    "Sort the schools by % Overall Passing in ascending order and display the top 5 rows.\n",
    "\n",
    "Save the results in a DataFrame called \"bottom_schools\"."
   ]
  },
  {
   "cell_type": "code",
   "execution_count": null,
   "id": "78a6f32e-c0fa-442c-a25e-1c6bbd98bb10",
   "metadata": {},
   "outputs": [],
   "source": [
    "#Math Scores by Grade\n",
    "Perform the necessary calculations to create a DataFrame that lists the average math score for students of each grade level (9th, 10th, 11th, 12th) at each school.\n"
   ]
  },
  {
   "cell_type": "code",
   "execution_count": null,
   "id": "9f7147e3-17a7-49b9-a663-1fad96c9859f",
   "metadata": {},
   "outputs": [],
   "source": [
    "#Reading Scores by Grade\n",
    "Create a DataFrame that lists the average reading score for students of each grade level (9th, 10th, 11th, 12th) at each school."
   ]
  },
  {
   "cell_type": "code",
   "execution_count": null,
   "id": "3409811c-e983-4405-9481-805502936585",
   "metadata": {},
   "outputs": [],
   "source": [
    "#Scores by School Spending\n",
    "Create a table that breaks down school performance based on average spending ranges (per student).\n",
    "\n",
    "Use the code provided below to create four bins with reasonable cutoff values to group school spending.\n",
    "\n",
    "spending_bins = [0, 585, 630, 645, 680]\n",
    "labels = [\"<$585\", \"$585-630\", \"$630-645\", \"$645-680\"]\n",
    "Use pd.cut to categorize spending based on the bins.\n",
    "\n",
    "Use the following code to then calculate mean scores per spending range.\n",
    "\n",
    "spending_math_scores = school_spending_df.groupby([\"Spending Ranges (Per Student)\"])[\"Average Math Score\"].mean()\n",
    "spending_reading_scores = school_spending_df.groupby([\"Spending Ranges (Per Student)\"])[\"Average Reading Score\"].mean()\n",
    "spending_passing_math = school_spending_df.groupby([\"Spending Ranges (Per Student)\"])[\"% Passing Math\"].mean()\n",
    "spending_passing_reading = school_spending_df.groupby([\"Spending Ranges (Per Student)\"])[\"% Passing Reading\"].mean()\n",
    "overall_passing_spending = school_spending_df.groupby([\"Spending Ranges (Per Student)\"])[\"% Overall Passing\"].mean()\n",
    "Use the scores above to create a DataFrame called spending_summary.\n",
    "\n",
    "Include the following metrics in the table:\n",
    "\n",
    "Average math score\n",
    "\n",
    "Average reading score\n",
    "\n",
    "% passing math (the percentage of students who passed math)\n",
    "\n",
    "% passing reading (the percentage of students who passed reading)\n",
    "\n",
    "% overall passing (the percentage of students who passed math AND reading)\n"
   ]
  },
  {
   "cell_type": "code",
   "execution_count": null,
   "id": "b205036a-9544-4e74-bfc6-96635eab2455",
   "metadata": {},
   "outputs": [],
   "source": []
  },
  {
   "cell_type": "code",
   "execution_count": null,
   "id": "ce892ce5-bff6-48a4-bee3-ac2a136b86a5",
   "metadata": {},
   "outputs": [],
   "source": [
    "# Scores by School Size\n",
    "Use the following code to bin the per_school_summary.\n",
    "\n",
    "size_bins = [0, 1000, 2000, 5000]\n",
    "labels = [\"Small (<1000)\", \"Medium (1000-2000)\", \"Large (2000-5000)\"]\n",
    "Use pd.cut on the \"Total Students\" column of the per_school_summary DataFrame.\n",
    "\n",
    "Create a DataFrame called size_summary that breaks down school performance based on school size (small, medium, or large).\n",
    "\n",
    "Scores by School Type\n",
    "Use the per_school_summary DataFrame from the previous step to create a new DataFrame called type_summary.\n",
    "\n",
    "This new DataFrame should show school performance based on the \"School Type\"."
   ]
  },
  {
   "cell_type": "code",
   "execution_count": null,
   "id": "94f8ce46-ac18-473a-9f56-c3d6e5854b39",
   "metadata": {},
   "outputs": [],
   "source": []
  }
 ],
 "metadata": {
  "kernelspec": {
   "display_name": "Python 3 (ipykernel)",
   "language": "python",
   "name": "python3"
  },
  "language_info": {
   "codemirror_mode": {
    "name": "ipython",
    "version": 3
   },
   "file_extension": ".py",
   "mimetype": "text/x-python",
   "name": "python",
   "nbconvert_exporter": "python",
   "pygments_lexer": "ipython3",
   "version": "3.11.7"
  }
 },
 "nbformat": 4,
 "nbformat_minor": 5
}
